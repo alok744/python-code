{
 "cells": [
  {
   "cell_type": "code",
   "execution_count": 8,
   "id": "195d7a20",
   "metadata": {},
   "outputs": [
    {
     "data": {
      "text/plain": [
       "27"
      ]
     },
     "execution_count": 8,
     "metadata": {},
     "output_type": "execute_result"
    }
   ],
   "source": [
    "#wap to find the cube of a number using lambda function.\n",
    "a=lambda y:y*y*y\n",
    "a(3)"
   ]
  },
  {
   "cell_type": "code",
   "execution_count": 26,
   "id": "178d46bf",
   "metadata": {},
   "outputs": [
    {
     "data": {
      "text/plain": [
       "80.0"
      ]
     },
     "execution_count": 26,
     "metadata": {},
     "output_type": "execute_result"
    }
   ],
   "source": [
    "#wap to find the average of 5 number using lambda.\n",
    "x=[1,2,3,4,5]\n",
    "y=0\n",
    "a=lambda x: (x)/5*100\n",
    "a(4)"
   ]
  },
  {
   "cell_type": "code",
   "execution_count": 27,
   "id": "d0b4cb9a",
   "metadata": {},
   "outputs": [],
   "source": [
    "#wap a program to create a function"
   ]
  },
  {
   "cell_type": "code",
   "execution_count": 54,
   "id": "eb968d15",
   "metadata": {},
   "outputs": [
    {
     "data": {
      "text/plain": [
       "12"
      ]
     },
     "execution_count": 54,
     "metadata": {},
     "output_type": "execute_result"
    }
   ],
   "source": [
    "def add():\n",
    "    return x*y\n",
    "z=lambda x,y:x*y\n",
    "\n",
    "#add()\n",
    "z(3,4)\n"
   ]
  },
  {
   "cell_type": "code",
   "execution_count": 1,
   "id": "30353d23",
   "metadata": {},
   "outputs": [
    {
     "data": {
      "text/plain": [
       "'Even'"
      ]
     },
     "execution_count": 1,
     "metadata": {},
     "output_type": "execute_result"
    }
   ],
   "source": [
    "# find odd & even number with the help of lambda function.\n",
    "\n",
    "\n",
    "\n",
    "# a = 89\n",
    "b = lambda a:'Even' if a%2==0 else 'Odd'\n",
    "b(30)"
   ]
  },
  {
   "cell_type": "code",
   "execution_count": 2,
   "id": "39b3ff8a",
   "metadata": {},
   "outputs": [
    {
     "name": "stdout",
     "output_type": "stream",
     "text": [
      "78\n",
      "90\n",
      "88\n",
      "340\n",
      "65\n"
     ]
    }
   ],
   "source": [
    "# Filter\n",
    "# Map\n",
    "# Reduce\n",
    "\n",
    "# Filter ----- > IG,Camera,Filter.....>\n",
    "# data quality increase\n",
    "\n",
    "\n",
    "# data read -----> data quality increase!!!\n",
    "# 10k-----> youtube -----> 60+ ---- > comedy, songs, \n",
    "# filter out senior citizen-----> \n",
    "\n",
    "\n",
    "\n",
    "# list / tuple -----> \n",
    " \n",
    "x = [34,78,90,45,23,-12,88,340,56,12,10,65]\n",
    "for i in x:\n",
    "    if i>60:\n",
    "        print(i)\n",
    "    "
   ]
  },
  {
   "cell_type": "code",
   "execution_count": 3,
   "id": "bd95ce38",
   "metadata": {},
   "outputs": [
    {
     "data": {
      "text/plain": [
       "[78, 90, 88, 340, 65]"
      ]
     },
     "execution_count": 3,
     "metadata": {},
     "output_type": "execute_result"
    }
   ],
   "source": [
    "# filter function ------> \n",
    "x \n",
    "[34, 78, 90, 45, 23, -12, 88, 340, 56, 12, 10, 65]\n",
    "list(filter(lambda x:True if x>60 else False,x))\n",
    "[78, 90, 88, 340, 65]"
   ]
  },
  {
   "cell_type": "code",
   "execution_count": 4,
   "id": "50bf1337",
   "metadata": {},
   "outputs": [
    {
     "name": "stdout",
     "output_type": "stream",
     "text": [
      "<filter object at 0x00000224AAF0F970>\n"
     ]
    }
   ],
   "source": [
    "x\n",
    "[34, 78, 90, 45, 23, -12, 88, 340, 56, 12, 10, 65]\n",
    "z = filter(lambda x:True if x>60 else False,x)\n",
    "print(z)"
   ]
  },
  {
   "cell_type": "code",
   "execution_count": 5,
   "id": "b354908c",
   "metadata": {},
   "outputs": [
    {
     "data": {
      "text/plain": [
       "(78, 90, 88, 340, 65)"
      ]
     },
     "execution_count": 5,
     "metadata": {},
     "output_type": "execute_result"
    }
   ],
   "source": [
    "tuple(z)"
   ]
  },
  {
   "cell_type": "code",
   "execution_count": 6,
   "id": "eb45e23c",
   "metadata": {},
   "outputs": [
    {
     "data": {
      "text/plain": [
       "[]"
      ]
     },
     "execution_count": 6,
     "metadata": {},
     "output_type": "execute_result"
    }
   ],
   "source": [
    "list(z)"
   ]
  },
  {
   "cell_type": "code",
   "execution_count": 7,
   "id": "1b8649fd",
   "metadata": {},
   "outputs": [
    {
     "data": {
      "text/plain": [
       "[78, 90, 88, 340, 65]"
      ]
     },
     "execution_count": 7,
     "metadata": {},
     "output_type": "execute_result"
    }
   ],
   "source": [
    "x = [34,78,90,45,23,-12,88,340,56,12,10,65]\n",
    "\n",
    "def fun(x):\n",
    "    if x>60:\n",
    "        return True\n",
    "    else:\n",
    "        return False\n",
    "list(filter(fun,x))"
   ]
  },
  {
   "cell_type": "code",
   "execution_count": 8,
   "id": "0ae14f11",
   "metadata": {},
   "outputs": [
    {
     "data": {
      "text/plain": [
       "[1, 4, 9, 16]"
      ]
     },
     "execution_count": 8,
     "metadata": {},
     "output_type": "execute_result"
    }
   ],
   "source": [
    "# Map function -----> \n",
    "\n",
    "a = [1,2,3,4]\n",
    "list(map(lambda a:a**2,a))"
   ]
  },
  {
   "cell_type": "code",
   "execution_count": 9,
   "id": "b63c11ef",
   "metadata": {},
   "outputs": [
    {
     "data": {
      "text/plain": [
       "[1, 2, 3, 4]"
      ]
     },
     "execution_count": 9,
     "metadata": {},
     "output_type": "execute_result"
    }
   ],
   "source": [
    "a"
   ]
  },
  {
   "cell_type": "code",
   "execution_count": 10,
   "id": "04eb8f07",
   "metadata": {},
   "outputs": [
    {
     "data": {
      "text/plain": [
       "[1, 4, 9, 16]"
      ]
     },
     "execution_count": 10,
     "metadata": {},
     "output_type": "execute_result"
    }
   ],
   "source": [
    "a=[1,2,3,4]\n",
    "def fun(a):\n",
    "    return a**2\n",
    "\n",
    "list(map(fun,a))"
   ]
  },
  {
   "cell_type": "markdown",
   "id": "872740b9",
   "metadata": {},
   "source": [
    "Reduce function"
   ]
  },
  {
   "cell_type": "code",
   "execution_count": 11,
   "id": "c00abaf5",
   "metadata": {},
   "outputs": [
    {
     "data": {
      "text/plain": [
       "10"
      ]
     },
     "execution_count": 11,
     "metadata": {},
     "output_type": "execute_result"
    }
   ],
   "source": [
    "from functools import reduce\n",
    "a = [1,2,3,4]\n",
    "reduce(lambda x,y:x+y,a)"
   ]
  },
  {
   "cell_type": "code",
   "execution_count": null,
   "id": "ad5e8a39",
   "metadata": {},
   "outputs": [],
   "source": []
  }
 ],
 "metadata": {
  "kernelspec": {
   "display_name": "Python 3 (ipykernel)",
   "language": "python",
   "name": "python3"
  },
  "language_info": {
   "codemirror_mode": {
    "name": "ipython",
    "version": 3
   },
   "file_extension": ".py",
   "mimetype": "text/x-python",
   "name": "python",
   "nbconvert_exporter": "python",
   "pygments_lexer": "ipython3",
   "version": "3.9.12"
  }
 },
 "nbformat": 4,
 "nbformat_minor": 5
}
