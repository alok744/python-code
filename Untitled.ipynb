{
 "cells": [
  {
   "cell_type": "code",
   "execution_count": 2,
   "id": "a57b7c2f",
   "metadata": {},
   "outputs": [
    {
     "name": "stdout",
     "output_type": "stream",
     "text": [
      "enter the salary45\n",
      "enter the hyear of service45\n",
      "2.25\n"
     ]
    }
   ],
   "source": [
    "# A company decided to give bonus of 5% to employee \n",
    "# if his/her year of service is more than 5 years.\n",
    "# Ask user for their salary and year of service \n",
    "# and print the net bonus amount.\n",
    "salary=int(input(\"enter the salary\"))\n",
    "yos=int(input(\"enter the hyear of service\"))\n",
    "if yos>=5:\n",
    "    bonous=salary/100*5\n",
    "    total_income=bonous+salary\n",
    "    print(bonous)\n",
    "else:\n",
    "    print(\"not eligible for bonous\")\n",
    "    print(\"salary\",salary)"
   ]
  },
  {
   "cell_type": "code",
   "execution_count": 3,
   "id": "ea527a38",
   "metadata": {},
   "outputs": [
    {
     "name": "stdout",
     "output_type": "stream",
     "text": [
      "enter the number length6\n",
      "enter the number of breath9\n",
      "enter the square number5\n",
      " it is not square\n"
     ]
    }
   ],
   "source": [
    "# Take values of length and breadth of a rectangle \n",
    "# from user and check if it is square or not.\n",
    "l=int(input(\"enter the number length\"))\n",
    "b=int(input(\"enter the number of breath\"))\n",
    "a=int(input(\"enter the square number\"))\n",
    "area_of_rectangle=l*b\n",
    "area_of_square=a**2\n",
    "if area_of_rectangle==area_of_square:\n",
    "    print(\"it is square\")\n",
    "else:\n",
    "    print(\" it is not square\")"
   ]
  },
  {
   "cell_type": "code",
   "execution_count": 5,
   "id": "ebdaf59c",
   "metadata": {},
   "outputs": [
    {
     "ename": "SyntaxError",
     "evalue": "invalid syntax (140375686.py, line 12)",
     "output_type": "error",
     "traceback": [
      "\u001b[1;36m  Input \u001b[1;32mIn [5]\u001b[1;36m\u001b[0m\n\u001b[1;33m    elif number>60 and number<=80 i[]:\u001b[0m\n\u001b[1;37m                                  ^\u001b[0m\n\u001b[1;31mSyntaxError\u001b[0m\u001b[1;31m:\u001b[0m invalid syntax\n"
     ]
    }
   ],
   "source": [
    "# A school has following rules for grading system:\n",
    "# a. Below 25 - F\n",
    "# b. 25 to 45 - E\n",
    "# c. 45 to 50 - D\n",
    "# d. 50 to 60 - C\n",
    "# e. 60 to 80 - B\n",
    "# f. Above 80 - A\n",
    "# Ask user to enter marks and print the corresponding grade.\n",
    "number=int(input(\"enter the value\"))\n",
    "if number>=80:\n",
    "    print(\"A\")\n",
    "elif number>60 and number<=80 i[]:\n",
    "    print(\"B\")\n",
    "elif number>60 and number<=50:\n",
    "    print(\"C\")\n",
    "elif number>60 and number<=45:\n",
    "    print(\"D\")\n",
    "elif number>25 and number<=45:\n",
    "    print(\"E\")\n",
    "elif number<25:\n",
    "    print(\"F\")"
   ]
  },
  {
   "cell_type": "code",
   "execution_count": 1,
   "id": "7c699125",
   "metadata": {},
   "outputs": [
    {
     "name": "stdout",
     "output_type": "stream",
     "text": [
      "enter the number25\n",
      "125\n"
     ]
    }
   ],
   "source": [
    "#electricity bill \n",
    "#first 100 units     no charge\n",
    "#next 100 units      rs5 per unit\n",
    "#after 200 units     rs 10 percent\n",
    "\n",
    "unit=int(input(\"enter the number\"))\n",
    "if unit>0 and unit<=100:\n",
    "    price=unit*5\n",
    "    print(price)\n",
    "elif unit>100 and unit<=200:\n",
    "    price=unit*10\n",
    "    print(price)\n",
    "else:\n",
    "    print(invalid)\n",
    "    "
   ]
  },
  {
   "cell_type": "code",
   "execution_count": 14,
   "id": "c551caef",
   "metadata": {},
   "outputs": [
    {
     "name": "stdout",
     "output_type": "stream",
     "text": [
      "max\n"
     ]
    }
   ],
   "source": [
    "#max number\n",
    "x=[1,2,3,4,5,6,7]\n",
    "i=0\n",
    "if (i<=0 and i>=0):\n",
    "    print(\"max\")\n",
    "else:\n",
    "    print(\"min\")"
   ]
  },
  {
   "cell_type": "code",
   "execution_count": 12,
   "id": "4a06e631",
   "metadata": {},
   "outputs": [
    {
     "name": "stdout",
     "output_type": "stream",
     "text": [
      "720\n"
     ]
    }
   ],
   "source": [
    "#factorial\n",
    "def fact(n):\n",
    "    f=1\n",
    "    for i in range(1,n+1):\n",
    "        f=f*i\n",
    "    return f\n",
    "x=6\n",
    "result=fact(x)\n",
    "print(result)"
   ]
  },
  {
   "cell_type": "code",
   "execution_count": 11,
   "id": "e77afbc6",
   "metadata": {},
   "outputs": [
    {
     "ename": "SyntaxError",
     "evalue": "invalid syntax (3860641866.py, line 2)",
     "output_type": "error",
     "traceback": [
      "\u001b[1;36m  Input \u001b[1;32mIn [11]\u001b[1;36m\u001b[0m\n\u001b[1;33m    x=[1,2,3,,4,59,7,6]\u001b[0m\n\u001b[1;37m             ^\u001b[0m\n\u001b[1;31mSyntaxError\u001b[0m\u001b[1;31m:\u001b[0m invalid syntax\n"
     ]
    }
   ],
   "source": [
    "#sort\n",
    "x=[1,2,3,4,59,7,6]\n",
    "x.sort(reverse=False)\n",
    "print(x)"
   ]
  },
  {
   "cell_type": "code",
   "execution_count": 17,
   "id": "2428782c",
   "metadata": {},
   "outputs": [
    {
     "name": "stdout",
     "output_type": "stream",
     "text": [
      "[545, 434, 2, 5, 4, 6, 4, 7, 6, 5, 3, 6, 5]\n"
     ]
    }
   ],
   "source": [
    "#reverse\n",
    "x=[5,6,3,5,6,7,4,6,4,5,2,434,545]\n",
    "x.reverse()\n",
    "print(x)"
   ]
  },
  {
   "cell_type": "code",
   "execution_count": 12,
   "id": "5d3899cb",
   "metadata": {},
   "outputs": [
    {
     "name": "stdout",
     "output_type": "stream",
     "text": [
      "<__main__.x object at 0x0000015369780CA0>\n"
     ]
    },
    {
     "data": {
      "text/plain": [
       "9"
      ]
     },
     "execution_count": 12,
     "metadata": {},
     "output_type": "execute_result"
    }
   ],
   "source": [
    "#wap to amke a variable inside a oops and try to get the output.\n",
    "class x:\n",
    "    a=9\n",
    "print(x())\n",
    "x().a"
   ]
  },
  {
   "cell_type": "code",
   "execution_count": 19,
   "id": "ca78d4a8",
   "metadata": {},
   "outputs": [
    {
     "name": "stdout",
     "output_type": "stream",
     "text": [
      "hey i am iside of oops\n"
     ]
    }
   ],
   "source": [
    "#wap to make funtion in side of class...\n",
    "class function:\n",
    "    def fun(self):\n",
    "        print(\"hey i am iside of oops\")\n",
    "f=function()\n",
    "f.fun()"
   ]
  },
  {
   "cell_type": "code",
   "execution_count": 24,
   "id": "a0c51c6f",
   "metadata": {},
   "outputs": [
    {
     "ename": "NameError",
     "evalue": "name 'fun' is not defined",
     "output_type": "error",
     "traceback": [
      "\u001b[1;31m---------------------------------------------------------------------------\u001b[0m",
      "\u001b[1;31mNameError\u001b[0m                                 Traceback (most recent call last)",
      "Input \u001b[1;32mIn [24]\u001b[0m, in \u001b[0;36m<cell line: 4>\u001b[1;34m()\u001b[0m\n\u001b[0;32m      2\u001b[0m     \u001b[38;5;28;01mdef\u001b[39;00m \u001b[38;5;21mfun\u001b[39m(\u001b[38;5;28mself\u001b[39m,x,y):\n\u001b[0;32m      3\u001b[0m         \u001b[38;5;28mprint\u001b[39m(x,y)\n\u001b[1;32m----> 4\u001b[0m f\u001b[38;5;241m=\u001b[39m\u001b[43mfun\u001b[49m()\n\u001b[0;32m      5\u001b[0m f\u001b[38;5;241m.\u001b[39madd(\u001b[38;5;241m3\u001b[39m,\u001b[38;5;241m5\u001b[39m)\n",
      "\u001b[1;31mNameError\u001b[0m: name 'fun' is not defined"
     ]
    }
   ],
   "source": [
    "class add:\n",
    "    def fun(self,x,y):\n",
    "        print(x,y)\n",
    "f=fun()\n",
    "f.add(3,5)"
   ]
  },
  {
   "cell_type": "markdown",
   "id": "848ec175",
   "metadata": {},
   "source": [
    "# Abstraction"
   ]
  },
  {
   "cell_type": "code",
   "execution_count": 1,
   "id": "0549427b",
   "metadata": {},
   "outputs": [],
   "source": [
    "#abc abstractmethod"
   ]
  },
  {
   "cell_type": "code",
   "execution_count": 2,
   "id": "a02f57a2",
   "metadata": {},
   "outputs": [],
   "source": [
    "from abc import ABC,abstractmethod"
   ]
  },
  {
   "cell_type": "code",
   "execution_count": 16,
   "id": "6e18093f",
   "metadata": {},
   "outputs": [
    {
     "name": "stdout",
     "output_type": "stream",
     "text": [
      "23\n"
     ]
    },
    {
     "ename": "AttributeError",
     "evalue": "'std2' object has no attribute 'info'",
     "output_type": "error",
     "traceback": [
      "\u001b[1;31m---------------------------------------------------------------------------\u001b[0m",
      "\u001b[1;31mAttributeError\u001b[0m                            Traceback (most recent call last)",
      "Input \u001b[1;32mIn [16]\u001b[0m, in \u001b[0;36m<cell line: 13>\u001b[1;34m()\u001b[0m\n\u001b[0;32m     11\u001b[0m s\u001b[38;5;241m=\u001b[39mstd2()\n\u001b[0;32m     12\u001b[0m s\u001b[38;5;241m.\u001b[39mdetail(\u001b[38;5;241m23\u001b[39m)\n\u001b[1;32m---> 13\u001b[0m \u001b[43ms\u001b[49m\u001b[38;5;241;43m.\u001b[39;49m\u001b[43minfo\u001b[49m(\u001b[38;5;124m\"\u001b[39m\u001b[38;5;124mA\u001b[39m\u001b[38;5;124m\"\u001b[39m)\n",
      "\u001b[1;31mAttributeError\u001b[0m: 'std2' object has no attribute 'info'"
     ]
    }
   ],
   "source": [
    "class std1(ABC):\n",
    "    @abstractmethod\n",
    "    def info(self,name):\n",
    "        print(name)\n",
    "class std2():\n",
    "    def detail(self,age):\n",
    "        print(age)\n",
    "class std3(std2):\n",
    "    def info1(self,marks):\n",
    "        print(marks)\n",
    "s=std2()\n",
    "s.detail(23)\n",
    "s.info(\"A\")"
   ]
  },
  {
   "cell_type": "code",
   "execution_count": 12,
   "id": "81112ec1",
   "metadata": {},
   "outputs": [
    {
     "name": "stdout",
     "output_type": "stream",
     "text": [
      "A\n"
     ]
    }
   ],
   "source": [
    "s.detail(\"A\")"
   ]
  },
  {
   "cell_type": "code",
   "execution_count": 13,
   "id": "74de837b",
   "metadata": {},
   "outputs": [
    {
     "name": "stdout",
     "output_type": "stream",
     "text": [
      "34\n"
     ]
    }
   ],
   "source": [
    "s.detail(34)"
   ]
  },
  {
   "cell_type": "code",
   "execution_count": 14,
   "id": "a2f6f076",
   "metadata": {},
   "outputs": [
    {
     "name": "stdout",
     "output_type": "stream",
     "text": [
      "ALok\n"
     ]
    }
   ],
   "source": [
    "s.detail(\"ALok\")"
   ]
  },
  {
   "cell_type": "code",
   "execution_count": 17,
   "id": "6241c82f",
   "metadata": {},
   "outputs": [
    {
     "name": "stdout",
     "output_type": "stream",
     "text": [
      "23\n"
     ]
    }
   ],
   "source": [
    "s.detail(23)"
   ]
  },
  {
   "cell_type": "code",
   "execution_count": 19,
   "id": "5ed986f6",
   "metadata": {},
   "outputs": [
    {
     "ename": "AttributeError",
     "evalue": "'std2' object has no attribute 'info1'",
     "output_type": "error",
     "traceback": [
      "\u001b[1;31m---------------------------------------------------------------------------\u001b[0m",
      "\u001b[1;31mAttributeError\u001b[0m                            Traceback (most recent call last)",
      "Input \u001b[1;32mIn [19]\u001b[0m, in \u001b[0;36m<cell line: 1>\u001b[1;34m()\u001b[0m\n\u001b[1;32m----> 1\u001b[0m \u001b[43ms\u001b[49m\u001b[38;5;241;43m.\u001b[39;49m\u001b[43minfo1\u001b[49m(\u001b[38;5;241m233\u001b[39m)\n",
      "\u001b[1;31mAttributeError\u001b[0m: 'std2' object has no attribute 'info1'"
     ]
    }
   ],
   "source": [
    "s.info1(233)"
   ]
  },
  {
   "cell_type": "code",
   "execution_count": 20,
   "id": "3c6f814c",
   "metadata": {},
   "outputs": [],
   "source": [
    "s=std3()"
   ]
  },
  {
   "cell_type": "code",
   "execution_count": 21,
   "id": "e47f33b3",
   "metadata": {},
   "outputs": [],
   "source": [
    "x=lambda a,b,c,d:a+b-c*d\n"
   ]
  },
  {
   "cell_type": "code",
   "execution_count": 22,
   "id": "21c11c2f",
   "metadata": {},
   "outputs": [
    {
     "data": {
      "text/plain": [
       "-9"
      ]
     },
     "execution_count": 22,
     "metadata": {},
     "output_type": "execute_result"
    }
   ],
   "source": [
    "x(1,2,3,4)"
   ]
  },
  {
   "cell_type": "code",
   "execution_count": 29,
   "id": "6fb14e71",
   "metadata": {},
   "outputs": [],
   "source": [
    "x=lambda a,b:a*a"
   ]
  },
  {
   "cell_type": "code",
   "execution_count": 31,
   "id": "0c8fa3e9",
   "metadata": {},
   "outputs": [
    {
     "data": {
      "text/plain": [
       "4"
      ]
     },
     "execution_count": 31,
     "metadata": {},
     "output_type": "execute_result"
    }
   ],
   "source": [
    "x(2,3)"
   ]
  },
  {
   "cell_type": "code",
   "execution_count": 32,
   "id": "bd395f40",
   "metadata": {},
   "outputs": [],
   "source": [
    "x=lambda a,b:a*a*a"
   ]
  },
  {
   "cell_type": "code",
   "execution_count": 33,
   "id": "7e20dd9f",
   "metadata": {},
   "outputs": [
    {
     "data": {
      "text/plain": [
       "8"
      ]
     },
     "execution_count": 33,
     "metadata": {},
     "output_type": "execute_result"
    }
   ],
   "source": [
    "x(2,3)"
   ]
  },
  {
   "cell_type": "code",
   "execution_count": 36,
   "id": "20fe4c40",
   "metadata": {},
   "outputs": [],
   "source": [
    "x=lambda a,b,c:a+b+c"
   ]
  },
  {
   "cell_type": "code",
   "execution_count": 37,
   "id": "67c2ab4e",
   "metadata": {},
   "outputs": [
    {
     "data": {
      "text/plain": [
       "6"
      ]
     },
     "execution_count": 37,
     "metadata": {},
     "output_type": "execute_result"
    }
   ],
   "source": [
    "x(1,2,3)"
   ]
  },
  {
   "cell_type": "code",
   "execution_count": 1,
   "id": "5d05b967",
   "metadata": {},
   "outputs": [
    {
     "data": {
      "text/plain": [
       "7"
      ]
     },
     "execution_count": 1,
     "metadata": {},
     "output_type": "execute_result"
    }
   ],
   "source": [
    "7"
   ]
  },
  {
   "cell_type": "code",
   "execution_count": 5,
   "id": "cc53ffbd",
   "metadata": {},
   "outputs": [
    {
     "name": "stdout",
     "output_type": "stream",
     "text": [
      "false\n",
      "false\n",
      "false\n",
      "65\n",
      "78\n",
      "false\n",
      "64\n",
      "false\n",
      "false\n",
      "false\n",
      "false\n",
      "false\n"
     ]
    }
   ],
   "source": [
    "#list/tuple------->\n",
    "x=[34,45,56,65,78,4,64,54,56,54,34,23]\n",
    "for i in x:\n",
    "    if i>60:\n",
    "        print(i)\n",
    "    else:\n",
    "        print(\"false\")\n",
    "    "
   ]
  },
  {
   "cell_type": "code",
   "execution_count": 6,
   "id": "2be5958b",
   "metadata": {},
   "outputs": [
    {
     "data": {
      "text/plain": [
       "[34, 45, 56, 65, 78, 4, 64, 54, 56, 54, 34, 23]"
      ]
     },
     "execution_count": 6,
     "metadata": {},
     "output_type": "execute_result"
    }
   ],
   "source": [
    "#filter function------------->\n",
    "x"
   ]
  },
  {
   "cell_type": "code",
   "execution_count": 7,
   "id": "ad7fdf81",
   "metadata": {},
   "outputs": [],
   "source": [
    "a=lambda x:True if x>60 else False"
   ]
  },
  {
   "cell_type": "code",
   "execution_count": 8,
   "id": "1ee73c84",
   "metadata": {},
   "outputs": [
    {
     "data": {
      "text/plain": [
       "[65, 78, 64]"
      ]
     },
     "execution_count": 8,
     "metadata": {},
     "output_type": "execute_result"
    }
   ],
   "source": [
    "list(filter(lambda x:True if x>60 else False,x))"
   ]
  },
  {
   "cell_type": "code",
   "execution_count": 14,
   "id": "698d1eb0",
   "metadata": {},
   "outputs": [
    {
     "name": "stdout",
     "output_type": "stream",
     "text": [
      "False\n",
      "False\n",
      "False\n",
      "False\n",
      "False\n",
      "False\n",
      "7\n",
      "8\n",
      "9\n"
     ]
    }
   ],
   "source": [
    "x=(1,2,3,4,5,6,7,8,9)\n",
    "for i in x:\n",
    "    if i>6:\n",
    "        print(i)\n",
    "    else:\n",
    "        \n",
    "        print(\"False\")\n",
    "        "
   ]
  },
  {
   "cell_type": "code",
   "execution_count": 15,
   "id": "a5e270e7",
   "metadata": {},
   "outputs": [],
   "source": [
    "x=[34, 45, 56, 65, 78, 4, 64, 54, 56, 54, 34, 23]"
   ]
  },
  {
   "cell_type": "code",
   "execution_count": 16,
   "id": "b979518b",
   "metadata": {},
   "outputs": [
    {
     "data": {
      "text/plain": [
       "[65, 78, 64]"
      ]
     },
     "execution_count": 16,
     "metadata": {},
     "output_type": "execute_result"
    }
   ],
   "source": [
    "def fun(x):\n",
    "    if x>60:\n",
    "        return True\n",
    "    else:\n",
    "        return False\n",
    "list(filter(fun,x))"
   ]
  },
  {
   "cell_type": "code",
   "execution_count": 17,
   "id": "bb067ee5",
   "metadata": {},
   "outputs": [
    {
     "data": {
      "text/plain": [
       "[1, 4, 9, 16]"
      ]
     },
     "execution_count": 17,
     "metadata": {},
     "output_type": "execute_result"
    }
   ],
   "source": [
    "#map function------------->\n",
    "a=[1,2,3,4]\n",
    "list(map(lambda a:a**2,a))"
   ]
  },
  {
   "cell_type": "code",
   "execution_count": 19,
   "id": "e1acc5b9",
   "metadata": {},
   "outputs": [
    {
     "data": {
      "text/plain": [
       "[1, 4, 9, 16]"
      ]
     },
     "execution_count": 19,
     "metadata": {},
     "output_type": "execute_result"
    }
   ],
   "source": [
    "a=[1,2,3,4]\n",
    "def fun(i):\n",
    "    return i**2\n",
    "list(map(fun,a))"
   ]
  },
  {
   "cell_type": "code",
   "execution_count": 23,
   "id": "dbd9859a",
   "metadata": {},
   "outputs": [
    {
     "data": {
      "text/plain": [
       "(1, 4, 9, 16, 25, 36)"
      ]
     },
     "execution_count": 23,
     "metadata": {},
     "output_type": "execute_result"
    }
   ],
   "source": [
    "x=[1,2,3,4,5,6]\n",
    "tuple(map(lambda x:x**2,x))"
   ]
  },
  {
   "cell_type": "markdown",
   "id": "771a912f",
   "metadata": {},
   "source": [
    "# Reduce function"
   ]
  },
  {
   "cell_type": "code",
   "execution_count": 27,
   "id": "f1fbb999",
   "metadata": {},
   "outputs": [],
   "source": [
    "from functools import reduce"
   ]
  },
  {
   "cell_type": "code",
   "execution_count": 29,
   "id": "b5c613cd",
   "metadata": {},
   "outputs": [
    {
     "data": {
      "text/plain": [
       "10"
      ]
     },
     "execution_count": 29,
     "metadata": {},
     "output_type": "execute_result"
    }
   ],
   "source": [
    "a=[1,2,3,4]\n",
    "reduce(lambda x,y:x+y,a)"
   ]
  },
  {
   "cell_type": "code",
   "execution_count": 10,
   "id": "138e35bf",
   "metadata": {},
   "outputs": [
    {
     "name": "stdout",
     "output_type": "stream",
     "text": [
      "9\n",
      "y= 5\n",
      "x= 4\n"
     ]
    }
   ],
   "source": [
    "x=5\n",
    "y=4\n",
    "x=x+y\n",
    "print(x)\n",
    "y=x-y\n",
    "print(\"y=\",y)\n",
    "x=x-y\n",
    "print(\"x=\",x)\n",
    "\n",
    "\n"
   ]
  },
  {
   "cell_type": "code",
   "execution_count": 16,
   "id": "00cafc62",
   "metadata": {},
   "outputs": [
    {
     "name": "stdout",
     "output_type": "stream",
     "text": [
      "[1, 2, 3, 4, 4, 5, 6, 7]\n"
     ]
    }
   ],
   "source": [
    "x=[1,2,3,4]\n",
    "y=[4,5,6,7]\n",
    "z=x+y\n",
    "z.append\n",
    "print(z)"
   ]
  },
  {
   "cell_type": "code",
   "execution_count": 20,
   "id": "ce029346",
   "metadata": {},
   "outputs": [
    {
     "name": "stdout",
     "output_type": "stream",
     "text": [
      "15\n"
     ]
    }
   ],
   "source": [
    "x=lambda a:a+10\n",
    "print(x(5))"
   ]
  },
  {
   "cell_type": "code",
   "execution_count": 1,
   "id": "a10d1a18",
   "metadata": {},
   "outputs": [],
   "source": [
    "#find hcf and lcm"
   ]
  },
  {
   "cell_type": "code",
   "execution_count": 15,
   "id": "554ad07f",
   "metadata": {},
   "outputs": [
    {
     "name": "stdout",
     "output_type": "stream",
     "text": [
      "enter the number\n",
      "4\n",
      "enter the number\n",
      "8\n",
      "hcf value=2\n",
      "hcf value=4\n",
      "hcf value=6\n",
      "hcf value=8\n"
     ]
    }
   ],
   "source": [
    "n1=int(input(\"enter the number\\n\"))\n",
    "n2=int(input(\"enter the number\\n\"))\n",
    "if n1>n2:\n",
    "    mn=n1\n",
    "else:\n",
    "    mn=n2\n",
    "for i in range(1,mn+1):\n",
    "    if i%2==0 and i%2==0:\n",
    "        hcf=i\n",
    "        print(f\"hcf value={hcf}\")"
   ]
  },
  {
   "cell_type": "code",
   "execution_count": null,
   "id": "03a90080",
   "metadata": {},
   "outputs": [],
   "source": [
    "\n",
    "    "
   ]
  },
  {
   "cell_type": "code",
   "execution_count": 1,
   "id": "854aefef",
   "metadata": {},
   "outputs": [
    {
     "data": {
      "text/plain": [
       "8"
      ]
     },
     "execution_count": 1,
     "metadata": {},
     "output_type": "execute_result"
    }
   ],
   "source": [
    "#sum two munber\n",
    "x=2\n",
    "y=6\n",
    "z=x+y\n",
    "z"
   ]
  },
  {
   "cell_type": "code",
   "execution_count": 9,
   "id": "15900495",
   "metadata": {},
   "outputs": [
    {
     "name": "stdout",
     "output_type": "stream",
     "text": [
      "1\n"
     ]
    }
   ],
   "source": [
    "x=[1,2,3,4]\n",
    "y=x.index(2)\n",
    "print(y)"
   ]
  },
  {
   "cell_type": "code",
   "execution_count": null,
   "id": "a60ad62f",
   "metadata": {},
   "outputs": [],
   "source": []
  }
 ],
 "metadata": {
  "kernelspec": {
   "display_name": "Python 3 (ipykernel)",
   "language": "python",
   "name": "python3"
  },
  "language_info": {
   "codemirror_mode": {
    "name": "ipython",
    "version": 3
   },
   "file_extension": ".py",
   "mimetype": "text/x-python",
   "name": "python",
   "nbconvert_exporter": "python",
   "pygments_lexer": "ipython3",
   "version": "3.9.12"
  }
 },
 "nbformat": 4,
 "nbformat_minor": 5
}
