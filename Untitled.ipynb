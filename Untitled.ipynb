{
 "cells": [
  {
   "cell_type": "code",
   "execution_count": 4,
   "id": "9681b243",
   "metadata": {},
   "outputs": [
    {
     "name": "stdout",
     "output_type": "stream",
     "text": [
      "enter the number10\n",
      "even number 4\n",
      "even number 6\n",
      "even number 8\n",
      "even number 10\n",
      "even number 12\n"
     ]
    }
   ],
   "source": [
    "#print the even number between 1 to 10...\n",
    "n=int(input(\"enter the number\"))\n",
    "sum=0\n",
    "i=2\n",
    "while(i<=n):\n",
    "    sum=sum+i\n",
    "    i=i+2\n",
    "    print(\"even number\",i)"
   ]
  },
  {
   "cell_type": "code",
   "execution_count": null,
   "id": "aa1dc4ee",
   "metadata": {},
   "outputs": [],
   "source": [
    "#find the palindrome number.\n",
    "n=int(input(\"enter the number\"))\n",
    "i=1\n",
    "while(i<=n):"
   ]
  }
 ],
 "metadata": {
  "kernelspec": {
   "display_name": "Python 3 (ipykernel)",
   "language": "python",
   "name": "python3"
  },
  "language_info": {
   "codemirror_mode": {
    "name": "ipython",
    "version": 3
   },
   "file_extension": ".py",
   "mimetype": "text/x-python",
   "name": "python",
   "nbconvert_exporter": "python",
   "pygments_lexer": "ipython3",
   "version": "3.9.12"
  }
 },
 "nbformat": 4,
 "nbformat_minor": 5
}
