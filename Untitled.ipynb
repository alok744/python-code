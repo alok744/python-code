{
 "cells": [
  {
   "cell_type": "code",
   "execution_count": 1,
   "id": "5fe24dc0",
   "metadata": {},
   "outputs": [],
   "source": [
    "#OOP'S CONCEPTS\n",
    "\n",
    "#class\n",
    "#object\n",
    "#inheritance\n",
    "#polymorphisam\n",
    "#encapculation\n",
    "#abstraction"
   ]
  },
  {
   "cell_type": "code",
   "execution_count": 5,
   "id": "86b86df0",
   "metadata": {},
   "outputs": [
    {
     "data": {
      "text/plain": [
       "6769"
      ]
     },
     "execution_count": 5,
     "metadata": {},
     "output_type": "execute_result"
    }
   ],
   "source": [
    "#wap to how create a class and object\n",
    "\n",
    "class student:\n",
    "    a=6769\n",
    "    \n",
    "s=student()\n",
    "s.a"
   ]
  },
  {
   "cell_type": "code",
   "execution_count": 13,
   "id": "d65cd3e1",
   "metadata": {},
   "outputs": [
    {
     "data": {
      "text/plain": [
       "1"
      ]
     },
     "execution_count": 13,
     "metadata": {},
     "output_type": "execute_result"
    }
   ],
   "source": [
    "#wap to create a first class and the function\n",
    "\n",
    "class student:\n",
    "    a=1\n",
    "    def hello():\n",
    "        print(\"hello\")\n",
    "s=student()\n",
    "s.a\n"
   ]
  },
  {
   "cell_type": "code",
   "execution_count": 118,
   "id": "ba63c74c",
   "metadata": {},
   "outputs": [
    {
     "ename": "TypeError",
     "evalue": "factorial() takes 0 positional arguments but 1 was given",
     "output_type": "error",
     "traceback": [
      "\u001b[1;31m---------------------------------------------------------------------------\u001b[0m",
      "\u001b[1;31mTypeError\u001b[0m                                 Traceback (most recent call last)",
      "Input \u001b[1;32mIn [118]\u001b[0m, in \u001b[0;36m<cell line: 7>\u001b[1;34m()\u001b[0m\n\u001b[0;32m      5\u001b[0m     x\u001b[38;5;241m=\u001b[39mn\u001b[38;5;241m*\u001b[39mfactorial(n\u001b[38;5;241m-\u001b[39m\u001b[38;5;241m1\u001b[39m)\n\u001b[0;32m      6\u001b[0m     \u001b[38;5;28mprint\u001b[39m(x)\n\u001b[1;32m----> 7\u001b[0m \u001b[43mfactorial_number\u001b[49m\u001b[43m(\u001b[49m\u001b[43mn\u001b[49m\u001b[43m,\u001b[49m\u001b[43mi\u001b[49m\u001b[43m,\u001b[49m\u001b[43m)\u001b[49m\n",
      "Input \u001b[1;32mIn [118]\u001b[0m, in \u001b[0;36mfactorial_number\u001b[1;34m(n, i)\u001b[0m\n\u001b[0;32m      4\u001b[0m \u001b[38;5;28;01mdef\u001b[39;00m \u001b[38;5;21mfactorial_number\u001b[39m(n,i):\n\u001b[1;32m----> 5\u001b[0m     x\u001b[38;5;241m=\u001b[39mn\u001b[38;5;241m*\u001b[39m\u001b[43mfactorial\u001b[49m\u001b[43m(\u001b[49m\u001b[43mn\u001b[49m\u001b[38;5;241;43m-\u001b[39;49m\u001b[38;5;241;43m1\u001b[39;49m\u001b[43m)\u001b[49m\n\u001b[0;32m      6\u001b[0m     \u001b[38;5;28mprint\u001b[39m(x)\n",
      "\u001b[1;31mTypeError\u001b[0m: factorial() takes 0 positional arguments but 1 was given"
     ]
    }
   ],
   "source": [
    "#wap to find the factorial on n number...\n",
    "i=0\n",
    "n=0\n",
    "def factorial_number(n,i):\n",
    "    x=n*factorial(n-1)\n",
    "    print(x)\n",
    "factorial_number(n,i,)\n",
    "    "
   ]
  },
  {
   "cell_type": "code",
   "execution_count": 5,
   "id": "ac3acff2",
   "metadata": {},
   "outputs": [
    {
     "name": "stdout",
     "output_type": "stream",
     "text": [
      "hello I am inside oops\n"
     ]
    }
   ],
   "source": [
    "#wap and make a function inside a oops try to get the output.\n",
    "\n",
    "class function:\n",
    "    def fun(self):\n",
    "        print(\"Hello I am inside oops\")\n",
    "    \n",
    "    \n",
    "f = function()\n",
    "f.fun()"
   ]
  },
  {
   "cell_type": "code",
   "execution_count": 14,
   "id": "7b25065c",
   "metadata": {},
   "outputs": [
    {
     "name": "stdout",
     "output_type": "stream",
     "text": [
      "7\n"
     ]
    }
   ],
   "source": [
    "#wap add a two number\n",
    "class add():\n",
    "    def fun(self,x,y):\n",
    "        z=x+y\n",
    "        print(z)\n",
    "s=add()\n",
    "s.fun(3,4)\n"
   ]
  },
  {
   "cell_type": "code",
   "execution_count": 22,
   "id": "ab23e5cc",
   "metadata": {},
   "outputs": [
    {
     "data": {
      "text/plain": [
       "710008"
      ]
     },
     "execution_count": 22,
     "metadata": {},
     "output_type": "execute_result"
    }
   ],
   "source": [
    "#work with return\n",
    "class add:\n",
    "    def fun(self,x,y):\n",
    "        z=x+y\n",
    "    \n",
    "        return z\n",
    "s=add()\n",
    "s.fun(57634,652374)\n"
   ]
  },
  {
   "cell_type": "code",
   "execution_count": 37,
   "id": "18d99ec0",
   "metadata": {},
   "outputs": [
    {
     "data": {
      "text/plain": [
       "5"
      ]
     },
     "execution_count": 37,
     "metadata": {},
     "output_type": "execute_result"
    }
   ],
   "source": [
    "#wap to make a variable & a function inside oops and try to get the output.\n",
    "class var:\n",
    "    a=5\n",
    "    def fun(self):        ##no need to required to to define a variable inside of function.....\n",
    "        print('fun')\n",
    "s=var()\n",
    "s.a"
   ]
  },
  {
   "cell_type": "code",
   "execution_count": 30,
   "id": "1916fcd1",
   "metadata": {},
   "outputs": [
    {
     "data": {
      "text/plain": [
       "<bound method var.fun of <__main__.var object at 0x0000020074DC32B0>>"
      ]
     },
     "execution_count": 30,
     "metadata": {},
     "output_type": "execute_result"
    }
   ],
   "source": [
    "s.fun"
   ]
  },
  {
   "cell_type": "code",
   "execution_count": 38,
   "id": "954ed2c0",
   "metadata": {},
   "outputs": [
    {
     "name": "stdout",
     "output_type": "stream",
     "text": [
      "fun\n"
     ]
    }
   ],
   "source": [
    "s.fun()"
   ]
  },
  {
   "cell_type": "code",
   "execution_count": 39,
   "id": "3a0c38fd",
   "metadata": {},
   "outputs": [],
   "source": [
    "# function----- optimized \n",
    "# constructor-----> to escape from function.\n",
    "# like function but ------> no need to call the constructor."
   ]
  },
  {
   "cell_type": "code",
   "execution_count": 51,
   "id": "84b9b907",
   "metadata": {},
   "outputs": [
    {
     "data": {
      "text/plain": [
       "('alok', 5464)"
      ]
     },
     "execution_count": 51,
     "metadata": {},
     "output_type": "execute_result"
    }
   ],
   "source": [
    "class student:\n",
    "    def __init__(self,name,salary):\n",
    "        self.name=name\n",
    "        self.salary=salary\n",
    "    \n",
    "s=student(\"alok\",5464)\n",
    "s.name,s.salary\n",
    "    "
   ]
  },
  {
   "cell_type": "code",
   "execution_count": null,
   "id": "9c3805ae",
   "metadata": {},
   "outputs": [],
   "source": [
    "#Inheritance"
   ]
  },
  {
   "cell_type": "code",
   "execution_count": 52,
   "id": "ba79ee8a",
   "metadata": {},
   "outputs": [],
   "source": [
    "#inheritance means inherit the parent class.\n",
    "#child herit the parents class"
   ]
  },
  {
   "cell_type": "code",
   "execution_count": 73,
   "id": "bee5fd6e",
   "metadata": {},
   "outputs": [
    {
     "data": {
      "text/plain": [
       "(1, 2, 3)"
      ]
     },
     "execution_count": 73,
     "metadata": {},
     "output_type": "execute_result"
    }
   ],
   "source": [
    "class parent:\n",
    "    def __init__(self,a,b):\n",
    "        self.a=a\n",
    "        self.b=b\n",
    "    \n",
    "class child(parent):\n",
    "    def __init__(self,a,b,c):\n",
    "        super().__init__(a,b)\n",
    "        self.c=c\n",
    "s=child(1,2,3)\n",
    "s.a,s.b,s.c\n",
    "\n",
    "    "
   ]
  },
  {
   "cell_type": "code",
   "execution_count": 74,
   "id": "b5c1d54e",
   "metadata": {},
   "outputs": [],
   "source": [
    "# wap to inherit a class car from automobile and try to find the \n",
    "# output of the car class attribute."
   ]
  },
  {
   "cell_type": "code",
   "execution_count": 107,
   "id": "4b2c96a0",
   "metadata": {},
   "outputs": [
    {
     "data": {
      "text/plain": [
       "('bmw', 'audi')"
      ]
     },
     "execution_count": 107,
     "metadata": {},
     "output_type": "execute_result"
    }
   ],
   "source": [
    "class automobile:\n",
    "    def __init__(self,bmw,audi):\n",
    "        self.bmw=bmw\n",
    "        self.audi=audi\n",
    "class car(automobile):\n",
    "    \n",
    "    def __init__(self,bmw,audi):\n",
    "        super().__init__(bmw,audi)\n",
    "\n",
    "c=automobile('bmw','audi')\n",
    "c.bmw,c.audi"
   ]
  },
  {
   "cell_type": "code",
   "execution_count": null,
   "id": "2298e8c1",
   "metadata": {},
   "outputs": [],
   "source": []
  },
  {
   "cell_type": "code",
   "execution_count": null,
   "id": "859d45e5",
   "metadata": {},
   "outputs": [],
   "source": []
  }
 ],
 "metadata": {
  "kernelspec": {
   "display_name": "Python 3 (ipykernel)",
   "language": "python",
   "name": "python3"
  },
  "language_info": {
   "codemirror_mode": {
    "name": "ipython",
    "version": 3
   },
   "file_extension": ".py",
   "mimetype": "text/x-python",
   "name": "python",
   "nbconvert_exporter": "python",
   "pygments_lexer": "ipython3",
   "version": "3.9.12"
  }
 },
 "nbformat": 4,
 "nbformat_minor": 5
}
