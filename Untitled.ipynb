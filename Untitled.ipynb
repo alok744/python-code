{
 "cells": [
  {
   "cell_type": "code",
   "execution_count": 10,
   "id": "6ffb85f1",
   "metadata": {},
   "outputs": [
    {
     "name": "stdout",
     "output_type": "stream",
     "text": [
      "enter the number1002\n",
      "number is not prime\n"
     ]
    }
   ],
   "source": [
    "#find the prime number\n",
    "x=int(input(\"enter the number\"))\n",
    "while x>=1:\n",
    "    if x%2==1:\n",
    "        print(\"number is a prime\")\n",
    "    else:\n",
    "        print(\"number is not prime\")\n",
    "    break\n",
    "        \n",
    "    "
   ]
  },
  {
   "cell_type": "code",
   "execution_count": 12,
   "id": "d94d441e",
   "metadata": {},
   "outputs": [
    {
     "name": "stdout",
     "output_type": "stream",
     "text": [
      "        * \n",
      "      * * \n",
      "    * * * \n",
      "  * * * * \n",
      "* * * * * \n"
     ]
    }
   ],
   "source": [
    "#draw a pattern\n",
    "n=5\n",
    "for i in range(0,n):\n",
    "    for j in range(0,n-i-1):\n",
    "        print(\" \",end=\" \")\n",
    "    for j in range(0,i+1):\n",
    "        print(\"*\",end=\" \")\n",
    "    print()\n",
    "        "
   ]
  },
  {
   "cell_type": "code",
   "execution_count": 108,
   "id": "02faa86a",
   "metadata": {},
   "outputs": [
    {
     "name": "stdout",
     "output_type": "stream",
     "text": [
      "        * \n",
      "      * * \n",
      "    * * * \n",
      "  * * * * \n",
      "* * * * * \n",
      "        * \n",
      "        * \n",
      "        * \n",
      "        * \n",
      "* * * * * \n"
     ]
    }
   ],
   "source": [
    "n=5\n",
    "for i in range(n):\n",
    "    for j in range(n-i-1):\n",
    "        print(\" \",end=\" \")\n",
    "    for j in range(0,i+1):\n",
    "        print(\"*\",end=\" \")\n",
    "    print()\n",
    "for i in range(n):\n",
    "    for j in range(n):\n",
    "        if i==4 or j==4:\n",
    "            print(\"*\",end=\" \")\n",
    "        else:\n",
    "            print(\" \",end=\" \")\n",
    "    print()"
   ]
  },
  {
   "cell_type": "code",
   "execution_count": 100,
   "id": "fc3a4d0f",
   "metadata": {},
   "outputs": [
    {
     "name": "stdout",
     "output_type": "stream",
     "text": [
      "    *     * \n",
      "  * *     * \n",
      "* * * * * * \n"
     ]
    }
   ],
   "source": [
    "n=3\n",
    "for i in range(n):\n",
    "    for j in range(n-i-1):\n",
    "        print(\" \",end=\" \")\n",
    "    for j in range(0,i+1):\n",
    "        print(\"*\",end=\" \")\n",
    "    for j in range(n):\n",
    "        if i==2 or j==2:\n",
    "            print(\"*\",end=\" \")\n",
    "        else:\n",
    "            print(\" \",end=\" \")\n",
    "    print()"
   ]
  },
  {
   "cell_type": "code",
   "execution_count": 106,
   "id": "c1a0205c",
   "metadata": {},
   "outputs": [
    {
     "name": "stdout",
     "output_type": "stream",
     "text": [
      "        |         | \n",
      "      | |         | \n",
      "    | | |         | \n",
      "  | | | |         | \n",
      "| | | | | | | | | | \n"
     ]
    }
   ],
   "source": [
    "n=5\n",
    "for i in range(n):\n",
    "    for j in range(n-i-1):\n",
    "        print(\" \",end=\" \")\n",
    "    for j in range(0,i+1):\n",
    "        print(\"|\",end=\" \")\n",
    "    for j in range(n):\n",
    "        if i==4 or j==4:\n",
    "            print(\"|\",end=\" \")\n",
    "        else:\n",
    "            print(\" \",end=\" \")\n",
    "    print()"
   ]
  },
  {
   "cell_type": "code",
   "execution_count": 132,
   "id": "66f3f75e",
   "metadata": {},
   "outputs": [
    {
     "name": "stdout",
     "output_type": "stream",
     "text": [
      "        *             * \n",
      "      * *             * \n",
      "    * * *             * \n",
      "  * * * *             * \n",
      "* * * * * * * * * * * * \n"
     ]
    }
   ],
   "source": [
    "n=5\n",
    "for i in range(n):\n",
    "    for j in range(n-i-1):\n",
    "        print(\" \",end=\" \")\n",
    "    for j in range(0,i+1):\n",
    "        print(\"*\",end=\" \")\n",
    "    for j in range(n+2):\n",
    "        if i==4 or j==6:\n",
    "            print(\"*\",end=\" \")\n",
    "        else:\n",
    "            print(\" \",end=\" \")\n",
    "    print()"
   ]
  },
  {
   "cell_type": "code",
   "execution_count": 4,
   "id": "6e619540",
   "metadata": {},
   "outputs": [
    {
     "name": "stdout",
     "output_type": "stream",
     "text": [
      "    *         * \n",
      "  * *         * \n",
      "* * * * * * * * \n"
     ]
    }
   ],
   "source": [
    "n=3\n",
    "for i in range(n):\n",
    "    for j in range(n-i-1):\n",
    "        print(\" \",end=\" \")\n",
    "    for j in range(i+1):\n",
    "        print(\"*\",end=\" \")\n",
    "    for j in range(n+2):\n",
    "        if i==2 or j==4:\n",
    "            print(\"*\",end=\" \")\n",
    "        else:\n",
    "            print(\" \",end=\" \")\n",
    "    print()"
   ]
  },
  {
   "cell_type": "code",
   "execution_count": 27,
   "id": "dc7103d7",
   "metadata": {},
   "outputs": [
    {
     "name": "stdout",
     "output_type": "stream",
     "text": [
      "756958458485\n",
      "4546546465\n",
      "no\n"
     ]
    }
   ],
   "source": [
    "n=int(input())\n",
    "for i in range(n):\n",
    "    a=str(input())\n",
    "    if(len(a)==10):\n",
    "        if(a.isnumeric()):\n",
    "            if(a[0]==\"6\"or a[0]==\"7\" or a[0]==\"8\" or a[0]==\"9\"):\n",
    "                print(\"yes\")\n",
    "            else:\n",
    "                print(\"no\")\n",
    "        else:\n",
    "            print(\"no\")\n",
    "    else:\n",
    "        print(\"no\")\n",
    "    break\n",
    "        \n",
    "\n"
   ]
  },
  {
   "cell_type": "code",
   "execution_count": 1,
   "id": "3a4a1cfa",
   "metadata": {},
   "outputs": [],
   "source": [
    "#Display number divisible by 5 froma list."
   ]
  },
  {
   "cell_type": "code",
   "execution_count": 3,
   "id": "13ec80f2",
   "metadata": {},
   "outputs": [
    {
     "name": "stdout",
     "output_type": "stream",
     "text": [
      "10\n",
      "20\n",
      "55\n"
     ]
    }
   ],
   "source": [
    "x=[10,20,33,46,55]\n",
    "for i in x:\n",
    "    if i%5==0:\n",
    "        print(i)\n",
    "    "
   ]
  },
  {
   "cell_type": "code",
   "execution_count": 4,
   "id": "45cb5192",
   "metadata": {},
   "outputs": [
    {
     "name": "stdout",
     "output_type": "stream",
     "text": [
      "Current DateTime: 2022-12-31 18:17:29.087492\n",
      "Type: <class 'datetime.datetime'>\n"
     ]
    }
   ],
   "source": [
    "#find current date and time.\n",
    "from datetime import datetime\n",
    "\n",
    "now = datetime.now()\n",
    "print('Current DateTime:', now)\n",
    "print('Type:', type(now))"
   ]
  },
  {
   "cell_type": "code",
   "execution_count": 5,
   "id": "6d9b265f",
   "metadata": {},
   "outputs": [
    {
     "name": "stdout",
     "output_type": "stream",
     "text": [
      "2023-01-01 01:50:59.098180\n"
     ]
    }
   ],
   "source": [
    "from datetime import datetime\n",
    "now=datetime.now()\n",
    "print(now)"
   ]
  },
  {
   "cell_type": "code",
   "execution_count": null,
   "id": "66925576",
   "metadata": {},
   "outputs": [],
   "source": [
    "#find index of maximum item inlist.\n",
    "x=[1,2,3,4,5,6]\n",
    "x.mar()\n",
    "print(x)"
   ]
  },
  {
   "cell_type": "code",
   "execution_count": null,
   "id": "18f2b762",
   "metadata": {},
   "outputs": [],
   "source": []
  }
 ],
 "metadata": {
  "kernelspec": {
   "display_name": "Python 3 (ipykernel)",
   "language": "python",
   "name": "python3"
  },
  "language_info": {
   "codemirror_mode": {
    "name": "ipython",
    "version": 3
   },
   "file_extension": ".py",
   "mimetype": "text/x-python",
   "name": "python",
   "nbconvert_exporter": "python",
   "pygments_lexer": "ipython3",
   "version": "3.9.12"
  }
 },
 "nbformat": 4,
 "nbformat_minor": 5
}
