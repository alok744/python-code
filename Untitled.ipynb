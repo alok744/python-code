{
 "cells": [
  {
   "cell_type": "code",
   "execution_count": 1,
   "id": "24e72fa2",
   "metadata": {},
   "outputs": [],
   "source": [
    "#wap to find the average marks of a student in 3 subjects using inheritance.\n",
    "# and for finding the avg marks make a function for avg marks and try to get \n",
    "# the output of the code .\n"
   ]
  },
  {
   "cell_type": "code",
   "execution_count": 26,
   "id": "e1b4d142",
   "metadata": {
    "scrolled": true
   },
   "outputs": [
    {
     "data": {
      "text/plain": [
       "4.0"
      ]
     },
     "execution_count": 26,
     "metadata": {},
     "output_type": "execute_result"
    }
   ],
   "source": [
    "class student:\n",
    "    def __init__(self,physics,chemistry):\n",
    "        self.physics=physics\n",
    "        self.chemistry=chemistry\n",
    "    \n",
    "class student2(student):\n",
    "    def __init__(self,physics,chemistry,maths):\n",
    "        super().__init__(physics,chemistry)\n",
    "        self.maths=maths\n",
    "            \n",
    "    def avrg(self):\n",
    "        avg =(self.physics+self.chemistry+self.maths)/3\n",
    "        return avg\n",
    "    \n",
    "s = student2 (2,3,7)\n",
    "s.avrg()   "
   ]
  },
  {
   "cell_type": "code",
   "execution_count": 28,
   "id": "114fcc22",
   "metadata": {},
   "outputs": [],
   "source": [
    "# MULTILEVEL INHERITANCE"
   ]
  },
  {
   "cell_type": "code",
   "execution_count": 75,
   "id": "0da279fd",
   "metadata": {},
   "outputs": [
    {
     "data": {
      "text/plain": [
       "3"
      ]
     },
     "execution_count": 75,
     "metadata": {},
     "output_type": "execute_result"
    }
   ],
   "source": [
    "#gpc to pc\n",
    "class gpc:\n",
    "    def __init__(self,a):\n",
    "        self.a=a\n",
    "class pc(gpc):\n",
    "    def __init__(self,b):\n",
    "        #super().__init__(a)\n",
    "        self.b=b\n",
    "class cc(pc):\n",
    "    def __init__(self,a,b,c):\n",
    "        super().__init__(b)\n",
    "        self.c=c\n",
    "\n",
    "x=cc(1,3,3)\n",
    "x.c\n"
   ]
  },
  {
   "cell_type": "code",
   "execution_count": 76,
   "id": "c03c0165",
   "metadata": {},
   "outputs": [
    {
     "ename": "AttributeError",
     "evalue": "'cc' object has no attribute 'a'",
     "output_type": "error",
     "traceback": [
      "\u001b[1;31m---------------------------------------------------------------------------\u001b[0m",
      "\u001b[1;31mAttributeError\u001b[0m                            Traceback (most recent call last)",
      "Input \u001b[1;32mIn [76]\u001b[0m, in \u001b[0;36m<cell line: 1>\u001b[1;34m()\u001b[0m\n\u001b[1;32m----> 1\u001b[0m \u001b[43mx\u001b[49m\u001b[38;5;241;43m.\u001b[39;49m\u001b[43ma\u001b[49m\n",
      "\u001b[1;31mAttributeError\u001b[0m: 'cc' object has no attribute 'a'"
     ]
    }
   ],
   "source": [
    "x.a"
   ]
  },
  {
   "cell_type": "code",
   "execution_count": 77,
   "id": "c861f527",
   "metadata": {},
   "outputs": [],
   "source": [
    "#wap to find the salary of the engineer and a doctor but there is \n",
    "# a simple condition  for their salaries\n",
    "# conditions are\n",
    "# if a engineer take holidays more than 12 in a year then there will be a\n",
    "# deduction  of 12% of salary and if doc takes same amount of holiday\n",
    "# there is no deduction at all.\n",
    "# but a doc salary is deducted by 2% if he takes holiday on sundays.\n",
    "# now the salary of engineer is 5lpa while salary of doc is 6lpa\n",
    "#  find the salary after deduction using oops concept."
   ]
  },
  {
   "cell_type": "code",
   "execution_count": null,
   "id": "55be3bc9",
   "metadata": {},
   "outputs": [],
   "source": []
  }
 ],
 "metadata": {
  "kernelspec": {
   "display_name": "Python 3 (ipykernel)",
   "language": "python",
   "name": "python3"
  },
  "language_info": {
   "codemirror_mode": {
    "name": "ipython",
    "version": 3
   },
   "file_extension": ".py",
   "mimetype": "text/x-python",
   "name": "python",
   "nbconvert_exporter": "python",
   "pygments_lexer": "ipython3",
   "version": "3.9.12"
  }
 },
 "nbformat": 4,
 "nbformat_minor": 5
}
