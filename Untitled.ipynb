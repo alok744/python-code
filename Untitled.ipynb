{
 "cells": [
  {
   "cell_type": "code",
   "execution_count": 8,
   "id": "13d3da2a",
   "metadata": {},
   "outputs": [
    {
     "name": "stdout",
     "output_type": "stream",
     "text": [
      "enter the number5\n",
      "factorial= 5\n",
      "factorial= 20\n",
      "factorial= 60\n",
      "factorial= 120\n",
      "factorial= 120\n"
     ]
    }
   ],
   "source": [
    "#factorial\n",
    "i=int(input(\"enter the number\"))\n",
    "f=1\n",
    "while(i>0):\n",
    "    f=f*i\n",
    "    i=i-1\n",
    "    print(\"factorial=\",f)"
   ]
  },
  {
   "cell_type": "code",
   "execution_count": 14,
   "id": "c36a4872",
   "metadata": {},
   "outputs": [
    {
     "name": "stdout",
     "output_type": "stream",
     "text": [
      "120\n"
     ]
    }
   ],
   "source": [
    "#find facto              rial using function method\n",
    "def fac(i):\n",
    "    f=1\n",
    "    while(i>0):\n",
    "        f=f*1\n",
    "        i=i-1\n",
    "x=5\n",
    "result=fact(x)\n",
    "print(result)\n",
    "        "
   ]
  },
  {
   "cell_type": "code",
   "execution_count": null,
   "id": "dfb6c42d",
   "metadata": {},
   "outputs": [],
   "source": [
    "#find the fabonacci\n",
    "n=int(input(\"enter the number\"))\n",
    "x=0\n",
    "y=1\n",
    "z=0\n",
    "while(z<=n):\n",
    "    print(z)\n",
    "    x=y\n",
    "    y=z\n",
    "    z=x+y\n",
    "    print(z)\n",
    "    "
   ]
  },
  {
   "cell_type": "code",
   "execution_count": null,
   "id": "0ef922af",
   "metadata": {},
   "outputs": [],
   "source": [
    "#draw the pattern\n",
    "i=1\n",
    "while(i<=5):\n",
    "    j=1\n",
    "    while(j<=i):\n",
    "        print('*',end='')\n",
    "        j=j+1\n",
    "    print()\n",
    "    i=i+1"
   ]
  },
  {
   "cell_type": "code",
   "execution_count": 49,
   "id": "4df3da67",
   "metadata": {},
   "outputs": [
    {
     "name": "stdout",
     "output_type": "stream",
     "text": [
      "    *\n",
      "   **\n",
      "  ***\n",
      " ****\n",
      "*****\n"
     ]
    }
   ],
   "source": [
    "i=1\n",
    "while(i<=5):\n",
    "    b=1\n",
    "    while(b<=5-i):\n",
    "        print(\" \",end=\"\")\n",
    "        b=b+1\n",
    "    j=1\n",
    "    while(j<=i):\n",
    "        print(\"*\",end=\"\")\n",
    "        j=j+1\n",
    "    print()\n",
    "    i=i+1\n",
    "        "
   ]
  },
  {
   "cell_type": "code",
   "execution_count": 55,
   "id": "50a2a958",
   "metadata": {},
   "outputs": [
    {
     "name": "stdout",
     "output_type": "stream",
     "text": [
      "    *\n",
      "   ***\n",
      "  *****\n",
      " *******\n",
      "*********\n"
     ]
    }
   ],
   "source": [
    "k=1\n",
    "i=1\n",
    "while(i<=5):\n",
    "    b=1\n",
    "    while(b<=5-i):\n",
    "        print(\" \",end=\"\")\n",
    "        b=b+1\n",
    "    j=1\n",
    "    while(j<=k):\n",
    "        print(\"*\",end=\"\")\n",
    "        j=j+1\n",
    "    k=k+2\n",
    "    print()\n",
    "    i=i+1"
   ]
  },
  {
   "cell_type": "code",
   "execution_count": 10,
   "id": "7b0a208e",
   "metadata": {},
   "outputs": [
    {
     "name": "stdout",
     "output_type": "stream",
     "text": [
      "enter the number5\n",
      "5\n",
      "20\n",
      "60\n",
      "120\n",
      "120\n"
     ]
    }
   ],
   "source": [
    "i=int(input(\"enter the number\"))\n",
    "f=1\n",
    "while(i>0):\n",
    "    f=f*i\n",
    "    i=i-1\n",
    "    print(f)"
   ]
  },
  {
   "cell_type": "code",
   "execution_count": 15,
   "id": "e96a5149",
   "metadata": {},
   "outputs": [
    {
     "name": "stdout",
     "output_type": "stream",
     "text": [
      "enter the number4\n",
      "enter the number20\n",
      "4\n"
     ]
    }
   ],
   "source": [
    "#find the hcf of two number\n",
    "num1=int(input(\"enter the number\"))\n",
    "num2=int(input(\"enter the number\"))\n",
    "i=1\n",
    "if (num1>num2):\n",
    "    mn=num2\n",
    "else:\n",
    "    mn=num1\n",
    "for i in range(1,mn+1):\n",
    "    if(num1%i==0) and (num2%i==0):\n",
    "        hcf=i\n",
    "print(hcf)"
   ]
  },
  {
   "cell_type": "code",
   "execution_count": 7,
   "id": "3db3872b",
   "metadata": {},
   "outputs": [
    {
     "data": {
      "text/plain": [
       "20"
      ]
     },
     "execution_count": 7,
     "metadata": {},
     "output_type": "execute_result"
    }
   ],
   "source": [
    "#find the lcm\n",
    "def cal_lcm(x,y):\n",
    "    if x>y:\n",
    "        greater=x\n",
    "    else:\n",
    "        greater=y\n",
    "    while(True):\n",
    "        if(greater%x==0) and (greater%y==0):\n",
    "            lcm=greater\n",
    "            break\n",
    "        greater=greater+1\n",
    "    return lcm\n",
    "cal_lcm(4,20)\n",
    "        "
   ]
  },
  {
   "cell_type": "code",
   "execution_count": null,
   "id": "8b7c0654",
   "metadata": {},
   "outputs": [],
   "source": []
  }
 ],
 "metadata": {
  "kernelspec": {
   "display_name": "Python 3 (ipykernel)",
   "language": "python",
   "name": "python3"
  },
  "language_info": {
   "codemirror_mode": {
    "name": "ipython",
    "version": 3
   },
   "file_extension": ".py",
   "mimetype": "text/x-python",
   "name": "python",
   "nbconvert_exporter": "python",
   "pygments_lexer": "ipython3",
   "version": "3.9.12"
  }
 },
 "nbformat": 4,
 "nbformat_minor": 5
}
